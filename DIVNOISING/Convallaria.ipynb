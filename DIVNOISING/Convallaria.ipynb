{
 "cells": [
  {
   "cell_type": "markdown",
   "id": "e4286116",
   "metadata": {},
   "source": [
    "# Import Dependency"
   ]
  },
  {
   "cell_type": "code",
   "execution_count": null,
   "id": "e40bba70",
   "metadata": {},
   "outputs": [],
   "source": [
    "import torch\n",
    "import matplotlib.pyplot as plt\n",
    "import numpy as np\n",
    "import torch.utils.data as Data \n",
    "from tifffile import imread\n",
    "import os\n",
    "import urllib\n",
    "import zipfile\n",
    "\n",
    "from noise import GaussianMixtureModel\n",
    "from data import preprocess\n",
    "from model import DIVNOISING\n",
    "from predict import predict\n",
    "import train"
   ]
  },
  {
   "cell_type": "markdown",
   "id": "3aa63c38",
   "metadata": {},
   "source": [
    "# Configure Global Parameters"
   ]
  },
  {
   "cell_type": "code",
   "execution_count": null,
   "id": "1008630c",
   "metadata": {},
   "outputs": [],
   "source": [
    "data_path = \"../Convallaria_diaphragm/\"\n",
    "calibration_data_name = \"20190726_tl_50um_500msec_wf_130EM_FD.tif\"\n",
    "data_name = \"20190520_tl_25um_50msec_05pc_488_130EM_Conv.tif\"\n",
    "model_path = \"./Convallaria/\"\n",
    "noise_model_name = \"noise_model.npz\"\n",
    "divnoising_model_name = \"divnoising_model_last.net\"\n",
    "divnoising_data_parameters = \"divnoising_data_parameters.npz\"\n",
    "loss_name = \"loss_model.net\"\n",
    "noise_model_trained = False\n",
    "divnoising_model_trained = False"
   ]
  },
  {
   "cell_type": "markdown",
   "id": "18605341",
   "metadata": {},
   "source": [
    "# Download Data"
   ]
  },
  {
   "cell_type": "code",
   "execution_count": null,
   "id": "9849bfa9",
   "metadata": {},
   "outputs": [],
   "source": [
    "if not os.path.isdir(\"../\"):\n",
    "    os.mkdir(\"../\")\n",
    "zipPath=\"../\" + \"Convallaria_diaphragm.zip\"\n",
    "if not os.path.exists(zipPath):  \n",
    "    data = urllib.request.urlretrieve('https://zenodo.org/record/5156913/files/Convallaria_diaphragm.zip?download=1', zipPath)\n",
    "    with zipfile.ZipFile(zipPath, 'r') as zip_ref:\n",
    "        zip_ref.extractall(\"../\")"
   ]
  },
  {
   "cell_type": "markdown",
   "id": "269a10de",
   "metadata": {},
   "source": [
    "# Train Gaussian Mixture Noise Model"
   ]
  },
  {
   "cell_type": "code",
   "execution_count": null,
   "id": "4d792883",
   "metadata": {},
   "outputs": [],
   "source": [
    "### import data ###\n",
    "\n",
    "noisy = imread(data_path + calibration_data_name)\n",
    "\n",
    "### configure noise model parameters ###\n",
    "num_of_gaussian = 3\n",
    "num_of_coeff = 2\n",
    "epochs = 2000\n",
    "batch_size = 250000\n",
    "min_variance = 50\n",
    "weight = None\n",
    "learning_rate = 0.1\n",
    "\n",
    "### prepare data ###\n",
    "signal = np.mean(noisy[:, ...],axis=0)[np.newaxis,...]\n",
    "\n",
    "### visualize the signal ###\n",
    "plt.figure(figsize=(12, 12))\n",
    "plt.subplot(1, 2, 2)\n",
    "plt.title(label='average (ground truth)')\n",
    "plt.imshow(signal[0],cmap='gray')\n",
    "plt.subplot(1, 2, 1)\n",
    "plt.title(label='single raw image')\n",
    "plt.imshow(noisy[0],cmap='gray')\n",
    "plt.show()\n",
    "\n",
    "### train noise model ###\n",
    "max_signal = np.max(signal)\n",
    "min_signal = np.min(signal)\n",
    "if (noise_model_trained):\n",
    "    weight = np.load(model_path + noise_model_name)[\"weight\"]\n",
    "noise_model = GaussianMixtureModel(weight = weight, gaussian = num_of_gaussian, coeff = num_of_coeff, max_signal = max_signal, min_signal = min_signal, min_variance = min_variance)\n",
    "if (not noise_model_trained):\n",
    "    noise_model.train(noisy, signal, learning_rate, batch_size, epochs, model_path + noise_model_name)"
   ]
  },
  {
   "cell_type": "markdown",
   "id": "7504730e",
   "metadata": {},
   "source": [
    "# Train DIVNOISING Model"
   ]
  },
  {
   "cell_type": "code",
   "execution_count": null,
   "id": "2c9d59e2",
   "metadata": {
    "scrolled": true
   },
   "outputs": [],
   "source": [
    "### import data ###\n",
    "noisy = imread(data_path + data_name).astype(\"float32\")[0:10]\n",
    "\n",
    "### configure training parameters ###\n",
    "patch_size = 128\n",
    "train_fraction = 0.85\n",
    "batch_size = 32\n",
    "epochs = 300\n",
    "learning_rate = 0.0002\n",
    "kl_limit = 1e-10\n",
    "gaussian_std = 25\n",
    "\n",
    "### preprocess data ###\n",
    "train_loss, recon_loss, kl_loss, val_loss = None, None, None, None\n",
    "train_tensor, val_tensor, mean, std = preprocess(noisy, patch_size, train_fraction)\n",
    "train_loader = Data.DataLoader(dataset = Data.TensorDataset(train_tensor, train_tensor), batch_size = batch_size, shuffle = True)\n",
    "val_loader = Data.DataLoader(dataset = Data.TensorDataset(val_tensor, val_tensor), batch_size = batch_size, shuffle = True)\n",
    "\n",
    "if (divnoising_model_trained):\n",
    "    model = torch.load(model_path + divnoising_model_name)\n",
    "else:\n",
    "\n",
    "    ### training ###\n",
    "    model = DIVNOISING(mean, std).cuda()\n",
    "    train_loss, recon_loss, kl_loss, val_loss = train.train(model, model_path, divnoising_model_name, mean, std, train_loader, val_loader, noise_model, gaussian_std, \n",
    "    epochs, batch_size, learning_rate, kl_limit)\n",
    "\n",
    "\n",
    "    ### plot loss ###\n",
    "    plt.figure(figsize=(18, 3))\n",
    "    plt.subplot(1,2,1)\n",
    "    plt.plot(train_loss, label='training')\n",
    "    plt.plot(val_loss, label='validation')\n",
    "    plt.xlabel(\"epochs\")\n",
    "    plt.ylabel(\"loss\")\n",
    "    plt.legend()\n",
    "\n",
    "    plt.subplot(1,2,2)\n",
    "    plt.plot(recon_loss, label='training')\n",
    "    plt.xlabel(\"epochs\")\n",
    "    plt.ylabel(\"reconstruction loss\")\n",
    "    plt.legend()\n",
    "\n",
    "    plt.subplot(1,3,3)\n",
    "    plt.plot(kl_loss, label='training')\n",
    "    plt.xlabel(\"epochs\")\n",
    "    plt.ylabel(\"KL loss\")\n",
    "    plt.legend()\n",
    "    plt.savefig(model_path + \"loss.jpg\")\n",
    "    plt.show()"
   ]
  },
  {
   "cell_type": "markdown",
   "id": "e8588856",
   "metadata": {},
   "source": [
    "# Predicte Noise-Free Images"
   ]
  },
  {
   "cell_type": "markdown",
   "id": "e3c71d98",
   "metadata": {},
   "source": [
    "### Model in Epcoh 5"
   ]
  },
  {
   "cell_type": "code",
   "execution_count": null,
   "id": "c3779186",
   "metadata": {
    "scrolled": false
   },
   "outputs": [],
   "source": [
    "model = torch.load(model_path + \"5divnoising_model_last.net\")\n",
    "\n",
    "### import data ###\n",
    "noisy = imread(data_path + data_name).astype(\"float32\")\n",
    "signal = np.mean(noisy[:,...],axis=0)[np.newaxis,...][0]\n",
    "\n",
    "### configure parameters###\n",
    "plot = True\n",
    "num_samples = 100\n",
    "num_display = 3\n",
    "image_size = 256\n",
    "\n",
    "### predict ###\n",
    "predict(noisy, signal, model, image_size, num_samples, num_display, plot = True)"
   ]
  },
  {
   "cell_type": "markdown",
   "id": "af300fe3",
   "metadata": {},
   "source": [
    "### Model in Epcoh 10"
   ]
  },
  {
   "cell_type": "code",
   "execution_count": null,
   "id": "e5d900df",
   "metadata": {},
   "outputs": [],
   "source": [
    "model = torch.load(model_path + \"10divnoising_model_last.net\")\n",
    "\n",
    "### import data ###\n",
    "noisy = imread(data_path + data_name).astype(\"float32\")\n",
    "signal = np.mean(noisy[:,...],axis=0)[np.newaxis,...][0]\n",
    "\n",
    "### configure parameters###\n",
    "plot = True\n",
    "num_samples = 100\n",
    "num_display = 3\n",
    "image_size = 256\n",
    "\n",
    "### predict ###\n",
    "predict(noisy, signal, model, image_size, num_samples, num_display, plot = True)"
   ]
  },
  {
   "cell_type": "markdown",
   "id": "40318a7d",
   "metadata": {},
   "source": [
    "### Model in Epoch 20"
   ]
  },
  {
   "cell_type": "code",
   "execution_count": null,
   "id": "e9e33cee",
   "metadata": {},
   "outputs": [],
   "source": [
    "model = torch.load(model_path + \"20divnoising_model_last.net\")\n",
    "\n",
    "### import data ###\n",
    "noisy = imread(data_path + data_name).astype(\"float32\")\n",
    "signal = np.mean(noisy[:,...],axis=0)[np.newaxis,...][0]\n",
    "\n",
    "### configure parameters###\n",
    "plot = True\n",
    "num_samples = 100\n",
    "num_display = 3\n",
    "image_size = 256\n",
    "\n",
    "### predict ###\n",
    "predict(noisy, signal, model, image_size, num_samples, num_display, plot = True)"
   ]
  },
  {
   "cell_type": "markdown",
   "id": "1dbefb0a",
   "metadata": {},
   "source": [
    "### Model in Epoch 50"
   ]
  },
  {
   "cell_type": "code",
   "execution_count": null,
   "id": "cfdb2317",
   "metadata": {},
   "outputs": [],
   "source": [
    "model = torch.load(model_path + \"50divnoising_model_last.net\")\n",
    "\n",
    "### import data ###\n",
    "noisy = imread(data_path + data_name).astype(\"float32\")\n",
    "signal = np.mean(noisy[:,...],axis=0)[np.newaxis,...][0]\n",
    "\n",
    "### configure parameters###\n",
    "plot = True\n",
    "num_samples = 100\n",
    "num_display = 3\n",
    "image_size = 256\n",
    "\n",
    "### predict ###\n",
    "predict(noisy, signal, model, image_size, num_samples, num_display, plot = True)"
   ]
  },
  {
   "cell_type": "markdown",
   "id": "aedf757e",
   "metadata": {},
   "source": [
    "### Model in Epoch 75"
   ]
  },
  {
   "cell_type": "code",
   "execution_count": null,
   "id": "74183f10",
   "metadata": {},
   "outputs": [],
   "source": [
    "model = torch.load(model_path + \"75divnoising_model_last.net\")\n",
    "\n",
    "### import data ###\n",
    "noisy = imread(data_path + data_name).astype(\"float32\")\n",
    "signal = np.mean(noisy[:,...],axis=0)[np.newaxis,...][0]\n",
    "\n",
    "### configure parameters###\n",
    "plot = True\n",
    "num_samples = 100\n",
    "num_display = 3\n",
    "image_size = 256\n",
    "\n",
    "### predict ###\n",
    "predict(noisy, signal, model, image_size, num_samples, num_display, plot = True)"
   ]
  },
  {
   "cell_type": "markdown",
   "id": "2320913b",
   "metadata": {},
   "source": [
    "### Model in Epoch 100"
   ]
  },
  {
   "cell_type": "code",
   "execution_count": null,
   "id": "388a9420",
   "metadata": {},
   "outputs": [],
   "source": [
    "model = torch.load(model_path + \"100divnoising_model_last.net\")\n",
    "\n",
    "### import data ###\n",
    "noisy = imread(data_path + data_name).astype(\"float32\")\n",
    "signal = np.mean(noisy[:,...],axis=0)[np.newaxis,...][0]\n",
    "\n",
    "### configure parameters###\n",
    "plot = True\n",
    "num_samples = 100\n",
    "num_display = 3\n",
    "image_size = 256\n",
    "\n",
    "### predict ###\n",
    "predict(noisy, signal, model, image_size, num_samples, num_display, plot = True)"
   ]
  },
  {
   "cell_type": "markdown",
   "id": "47569388",
   "metadata": {},
   "source": [
    "Model in Epoch 200"
   ]
  },
  {
   "cell_type": "code",
   "execution_count": null,
   "id": "87d3572a",
   "metadata": {},
   "outputs": [],
   "source": [
    "model = torch.load(model_path + \"200divnoising_model_last.net\")\n",
    "\n",
    "### import data ###\n",
    "noisy = imread(data_path + data_name).astype(\"float32\")\n",
    "signal = np.mean(noisy[:,...],axis=0)[np.newaxis,...][0]\n",
    "\n",
    "### configure parameters###\n",
    "plot = True\n",
    "num_samples = 100\n",
    "num_display = 3\n",
    "image_size = 256\n",
    "\n",
    "### predict ###\n",
    "predict(noisy, signal, model, image_size, num_samples, num_display, plot = True)"
   ]
  },
  {
   "cell_type": "markdown",
   "id": "0145e352",
   "metadata": {},
   "source": [
    "Model in Epoch 300"
   ]
  },
  {
   "cell_type": "code",
   "execution_count": null,
   "id": "a9f5eae4",
   "metadata": {},
   "outputs": [],
   "source": [
    "model = torch.load(model_path + \"300divnoising_model_last.net\")\n",
    "\n",
    "### import data ###\n",
    "noisy = imread(data_path + data_name).astype(\"float32\")\n",
    "signal = np.mean(noisy[:,...],axis=0)[np.newaxis,...][0]\n",
    "\n",
    "### configure parameters###\n",
    "plot = True\n",
    "num_samples = 100\n",
    "num_display = 3\n",
    "image_size = 256\n",
    "\n",
    "### predict ###\n",
    "predict(noisy, signal, model, image_size, num_samples, num_display, plot = True)"
   ]
  },
  {
   "cell_type": "markdown",
   "id": "6acbd4b1",
   "metadata": {},
   "source": [
    "# Predict Signals"
   ]
  },
  {
   "cell_type": "code",
   "execution_count": null,
   "id": "bf22f56d",
   "metadata": {},
   "outputs": [],
   "source": [
    "noisy = imread(data_path + data_name).astype(\"float32\")\n",
    "signal = np.mean(noisy[:,...],axis=0)[np.newaxis,...][0]\n",
    "img = noisy[0, 400:528, 200:328].reshape(1, 1, 128, 128)\n",
    "img_tensor = torch.Tensor(img).cuda()\n",
    "\n",
    "plt.figure(figsize=(30,30))\n",
    "plt.subplot(3, 4, 1)\n",
    "plt.imshow(img.reshape(128, 128), cmap = \"magma\")\n",
    "plt.title(\"original\")\n",
    "plt.legend()\n",
    "for epoch in range(10, 101, 10):\n",
    "    model = torch.load(model_path + str(epoch) + \"divnoising_model_last.net\")\n",
    "    mean, var = model.encode(img_tensor)\n",
    "    z = model.reparameterize(mean, var)\n",
    "    x = model.decode(z)\n",
    "    plt.subplot(3, 4, epoch // 10 + 1)\n",
    "    plt.imshow(x.cpu().detach().numpy().reshape(128, 128), cmap = \"magma\")\n",
    "    plt.title(\"epoch \" + str(epoch))\n",
    "    plt.legend()\n",
    "    \n",
    "plt.subplot(3, 4, 12)\n",
    "plt.imshow(signal[400:528, 200:328].reshape(128, 128), cmap = \"magma\")\n",
    "plt.title(\"ground truth\")\n",
    "plt.legend()\n",
    "plt.savefig(model_path + \"denoising.jpg\")\n",
    "plt.show()"
   ]
  },
  {
   "cell_type": "markdown",
   "id": "f37c2e3d",
   "metadata": {},
   "source": [
    "# Plot Latent Distribution"
   ]
  },
  {
   "cell_type": "code",
   "execution_count": null,
   "id": "f807300c",
   "metadata": {},
   "outputs": [],
   "source": [
    "noisy = imread(data_path + data_name).astype(\"float32\")\n",
    "\n",
    "img = noisy[0].reshape(1, 1, noisy.shape[1], noisy.shape[1])\n",
    "img_tensor = torch.Tensor(img).cuda()\n",
    "\n",
    "plt.figure(figsize=(60,20))\n",
    "for epoch in range(10, 101, 10):\n",
    "    model = torch.load(model_path + str(epoch) + \"divnoising_model_last.net\")\n",
    "    mean, var = model.encode(img_tensor)\n",
    "    z = model.reparameterize(mean, var)\n",
    "    plt.subplot(2, 5, epoch // 10)\n",
    "    plt.hist(z.cpu().detach().numpy().reshape(4194304))\n",
    "    plt.title(\"epoch \" + str(epoch))\n",
    "    plt.legend()\n",
    "\n",
    "plt.savefig(model_path + \"latent_distribution.jpg\")\n",
    "plt.show()"
   ]
  },
  {
   "cell_type": "markdown",
   "id": "e328b6fe",
   "metadata": {},
   "source": [
    "# Generate Images"
   ]
  },
  {
   "cell_type": "code",
   "execution_count": null,
   "id": "1d19641b",
   "metadata": {},
   "outputs": [],
   "source": [
    "noisy = imread(data_path + data_name).astype(\"float32\")\n",
    "\n",
    "img = noisy[50].reshape(1, 1, noisy.shape[1], noisy.shape[1])\n",
    "img_tensor = torch.Tensor(img).cuda()\n",
    "\n",
    "plt.figure(figsize = (20, 8))\n",
    "\n",
    "for i in range(10):\n",
    "    model = torch.load(model_path + str(100) + \"divnoising_model_last.net\")\n",
    "    z = model.reparameterize(torch.zeros(1,64,4,4).cuda(), torch.zeros(1,64,4,4).cuda())\n",
    "    x = model.Decoder(z) * model.data_std\n",
    "    x = x + model.data_mean\n",
    "    plt.subplot(2, 5, i + 1)\n",
    "    plt.imshow(x.cpu().detach().reshape(16, 16), cmap=\"magma\")\n",
    "    plt.legend()\n",
    "\n",
    "plt.savefig(model_path + \"generation.jpg\")\n",
    "plt.show()"
   ]
  },
  {
   "cell_type": "code",
   "execution_count": null,
   "id": "97b3396b",
   "metadata": {},
   "outputs": [],
   "source": []
  }
 ],
 "metadata": {
  "kernelspec": {
   "display_name": "Python 3 (ipykernel)",
   "language": "python",
   "name": "python3"
  },
  "language_info": {
   "codemirror_mode": {
    "name": "ipython",
    "version": 3
   },
   "file_extension": ".py",
   "mimetype": "text/x-python",
   "name": "python",
   "nbconvert_exporter": "python",
   "pygments_lexer": "ipython3",
   "version": "3.8.12"
  }
 },
 "nbformat": 4,
 "nbformat_minor": 5
}
