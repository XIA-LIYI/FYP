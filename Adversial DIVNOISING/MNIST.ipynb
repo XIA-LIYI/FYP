{
 "cells": [
  {
   "cell_type": "markdown",
   "id": "d8ee4520",
   "metadata": {},
   "source": [
    "# Import Dependency"
   ]
  },
  {
   "cell_type": "code",
   "execution_count": null,
   "id": "e40bba70",
   "metadata": {},
   "outputs": [],
   "source": [
    "import torch\n",
    "import matplotlib.pyplot as plt\n",
    "import numpy as np\n",
    "import torch.utils.data as Data \n",
    "from tifffile import imread\n",
    "import struct\n",
    "\n",
    "from noise import GaussianMixtureModel\n",
    "from data import preprocess\n",
    "from model_linear import DIVNOISING, Discriminator\n",
    "from predict import predict\n",
    "import train"
   ]
  },
  {
   "cell_type": "markdown",
   "id": "8cb78b92",
   "metadata": {},
   "source": [
    "# Configure Global Parameters"
   ]
  },
  {
   "cell_type": "code",
   "execution_count": null,
   "id": "1008630c",
   "metadata": {},
   "outputs": [],
   "source": [
    "data_path = \"../MNIST/\"\n",
    "model_path = \"./MNIST/\"\n",
    "loss_name = \"loss.npz\"\n",
    "divnoising_model_name = \"divnoising_model_last.net\"\n",
    "divnoising_data_parameters = \"divnoising_data_parameters.npz\"\n",
    "divnoising_model_trained = False"
   ]
  },
  {
   "cell_type": "code",
   "execution_count": null,
   "id": "9141be9b",
   "metadata": {},
   "outputs": [],
   "source": [
    "factor = 0\n",
    "\n",
    "### import data ###\n",
    "with open(\"../MNIST/raw/train-images-idx3-ubyte\", 'rb') as f:\n",
    "    magic, num, rows, cols = struct.unpack(\">IIII\", f.read(16))\n",
    "    signal = np.fromfile(f, dtype = np.uint8).reshape(num, rows, cols).astype(\"float32\") / 255\n",
    "noisy = signal + factor * np.random.normal(loc = 0.0, scale = 1.0, size = signal.shape)\n",
    "noisy = np.clip(noisy, 0., 1.)[0:1000]"
   ]
  },
  {
   "cell_type": "markdown",
   "id": "726bdd56",
   "metadata": {},
   "source": [
    "# Train Adversarial DIVNOISING Model"
   ]
  },
  {
   "cell_type": "markdown",
   "id": "02eddf5f",
   "metadata": {},
   "source": [
    "This section is to train Adversarial DIVNOISING Model for small data set which only includes 10 images."
   ]
  },
  {
   "cell_type": "code",
   "execution_count": null,
   "id": "2c9d59e2",
   "metadata": {},
   "outputs": [],
   "source": [
    "### configure training parameters ###\n",
    "patch_size = 28\n",
    "train_fraction = 0.85\n",
    "batch_size = 32\n",
    "epochs = 100\n",
    "learning_rate = 0.0005\n",
    "kl_limit = 1e-5\n",
    "gaussian_std = factor\n",
    "noise_model = None\n",
    "\n",
    "\n",
    "### preprocess data ###\n",
    "train_loss, recon_loss, kl_loss, val_loss = None, None, None, None\n",
    "train_tensor, val_tensor, mean, std = preprocess(noisy, patch_size, train_fraction)\n",
    "train_loader = Data.DataLoader(dataset = Data.TensorDataset(train_tensor, train_tensor), \n",
    "                               batch_size = batch_size, shuffle = True)\n",
    "val_loader = Data.DataLoader(dataset = Data.TensorDataset(val_tensor, val_tensor), \n",
    "                             batch_size = batch_size, shuffle = True)\n",
    "\n",
    "### training ###\n",
    "model = DIVNOISING(mean, std).cuda()\n",
    "discriminator = Discriminator().cuda()\n",
    "recon_loss, d_loss, g_loss, val_loss = train.train(model, discriminator, model_path, divnoising_model_name, loss_name, \n",
    "                                                   mean, std, train_loader, val_loader, noise_model, \n",
    "                                                   gaussian_std, epochs, batch_size, learning_rate, kl_limit)\n",
    "\n",
    "\n",
    "### plot loss ###\n",
    "plt.figure(figsize=(20, 5))\n",
    "plt.subplot(1,3,1)\n",
    "plt.plot(recon_loss, label='reconstruction')\n",
    "plt.xlabel(\"epochs\")\n",
    "plt.ylabel(\"reconstruction loss\")\n",
    "plt.legend()\n",
    "\n",
    "plt.subplot(1,3,2)\n",
    "plt.plot(d_loss, label='discriminator')\n",
    "plt.plot(g_loss, label='generator')\n",
    "plt.xlabel(\"epochs\")\n",
    "plt.ylabel(\"adversarial loss\")\n",
    "plt.legend()\n",
    "\n",
    "plt.subplot(1,3,3)\n",
    "plt.plot(val_loss, label='val')\n",
    "plt.xlabel(\"epochs\")\n",
    "plt.ylabel(\"val loss\")\n",
    "plt.legend()\n",
    "plt.savefig(model_path + 'loss.jpg')\n",
    "plt.show()"
   ]
  },
  {
   "cell_type": "markdown",
   "id": "f1cc24b1",
   "metadata": {},
   "source": [
    "# Predict Noise-Free Images"
   ]
  },
  {
   "cell_type": "markdown",
   "id": "1f7fd0ff",
   "metadata": {},
   "source": [
    "### Model in Epoch 5"
   ]
  },
  {
   "cell_type": "code",
   "execution_count": null,
   "id": "c3779186",
   "metadata": {
    "scrolled": true
   },
   "outputs": [],
   "source": [
    "model = torch.load(model_path + \"100divnoising_model_last.net\")\n",
    "\n",
    "### configure parameters###\n",
    "plot = True\n",
    "num_samples = 100\n",
    "num_display = 3\n",
    "image_size = 28\n",
    "\n",
    "### predict ###\n",
    "predict(noisy[4:5], signal[2], model, image_size, num_samples, num_display, plot = True)"
   ]
  },
  {
   "cell_type": "markdown",
   "id": "a9074b66",
   "metadata": {},
   "source": [
    "### Model in Epoch 10"
   ]
  },
  {
   "cell_type": "code",
   "execution_count": null,
   "id": "b569ed08",
   "metadata": {},
   "outputs": [],
   "source": [
    "model = torch.load(model_path + \"10divnoising_model_last.net\")\n",
    "\n",
    "### configure parameters###\n",
    "plot = True\n",
    "num_samples = 100\n",
    "num_display = 3\n",
    "image_size = 28\n",
    "\n",
    "### predict ###\n",
    "predict(noisy[0:1], signal[0], model, image_size, num_samples, num_display, plot = True)"
   ]
  },
  {
   "cell_type": "markdown",
   "id": "71da8f8c",
   "metadata": {},
   "source": [
    "### Model in Epoch 20"
   ]
  },
  {
   "cell_type": "code",
   "execution_count": null,
   "id": "3a3b9fd8",
   "metadata": {},
   "outputs": [],
   "source": [
    "model = torch.load(model_path + \"20divnoising_model_last.net\")\n",
    "\n",
    "### configure parameters###\n",
    "plot = True\n",
    "num_samples = 100\n",
    "num_display = 3\n",
    "image_size = 28\n",
    "\n",
    "### predict ###\n",
    "predict(noisy[0:1], signal[0], model, image_size, num_samples, num_display, plot = True)"
   ]
  },
  {
   "cell_type": "markdown",
   "id": "5fdb8932",
   "metadata": {},
   "source": [
    "### Model in Epoch 50"
   ]
  },
  {
   "cell_type": "code",
   "execution_count": null,
   "id": "550faf05",
   "metadata": {},
   "outputs": [],
   "source": [
    "model = torch.load(model_path + \"50divnoising_model_last.net\")\n",
    "\n",
    "### import data ###\n",
    "noisy = imread(data_path + data_name).astype(\"float32\")\n",
    "signal = np.mean(noisy[:,...],axis=0)[np.newaxis,...][0]\n",
    "\n",
    "### configure parameters###\n",
    "plot = True\n",
    "num_samples = 100\n",
    "num_display = 3\n",
    "image_size = 256\n",
    "\n",
    "### predict ###\n",
    "predict(noisy, signal, model, image_size, num_samples, num_display, plot = True)"
   ]
  },
  {
   "cell_type": "markdown",
   "id": "3d5f6483",
   "metadata": {},
   "source": [
    "### Model in Epoch 75"
   ]
  },
  {
   "cell_type": "code",
   "execution_count": null,
   "id": "ec4432f8",
   "metadata": {},
   "outputs": [],
   "source": [
    "model = torch.load(model_path + \"75divnoising_model_last.net\")\n",
    "\n",
    "### import data ###\n",
    "noisy = imread(data_path + data_name).astype(\"float32\")\n",
    "signal = np.mean(noisy[:,...],axis=0)[np.newaxis,...][0]\n",
    "\n",
    "### configure parameters###\n",
    "plot = True\n",
    "num_samples = 100\n",
    "num_display = 3\n",
    "image_size = 256\n",
    "\n",
    "### predict ###\n",
    "predict(noisy, signal, model, image_size, num_samples, num_display, plot = True)"
   ]
  },
  {
   "cell_type": "markdown",
   "id": "88b1495b",
   "metadata": {},
   "source": [
    "### Model in Epoch 100"
   ]
  },
  {
   "cell_type": "code",
   "execution_count": null,
   "id": "510491a4",
   "metadata": {},
   "outputs": [],
   "source": [
    "model = torch.load(model_path + \"100divnoising_model_last.net\")\n",
    "\n",
    "### import data ###\n",
    "noisy = imread(data_path + data_name).astype(\"float32\")\n",
    "signal = np.mean(noisy[:,...],axis=0)[np.newaxis,...][0]\n",
    "\n",
    "### configure parameters###\n",
    "plot = True\n",
    "num_samples = 100\n",
    "num_display = 3\n",
    "image_size = 256\n",
    "\n",
    "### predict ###\n",
    "predict(noisy, signal, model, image_size, num_samples, num_display, plot = True)"
   ]
  },
  {
   "cell_type": "markdown",
   "id": "27e9e6c4",
   "metadata": {},
   "source": [
    "Model in Epoch 200"
   ]
  },
  {
   "cell_type": "code",
   "execution_count": null,
   "id": "9ca276a3",
   "metadata": {},
   "outputs": [],
   "source": [
    "model = torch.load(model_path + \"200divnoising_model_last.net\")\n",
    "\n",
    "### import data ###\n",
    "noisy = imread(data_path + data_name).astype(\"float32\")\n",
    "signal = np.mean(noisy[:,...],axis=0)[np.newaxis,...][0]\n",
    "\n",
    "### configure parameters###\n",
    "plot = True\n",
    "num_samples = 100\n",
    "num_display = 3\n",
    "image_size = 256\n",
    "\n",
    "### predict ###\n",
    "predict(noisy, signal, model, image_size, num_samples, num_display, plot = True)"
   ]
  },
  {
   "cell_type": "markdown",
   "id": "565f06bb",
   "metadata": {},
   "source": [
    "Model in Epoch 300"
   ]
  },
  {
   "cell_type": "code",
   "execution_count": null,
   "id": "87364f67",
   "metadata": {},
   "outputs": [],
   "source": [
    "model = torch.load(model_path + \"300divnoising_model_last.net\")\n",
    "\n",
    "### import data ###\n",
    "noisy = imread(data_path + data_name).astype(\"float32\")\n",
    "signal = np.mean(noisy[:,...],axis=0)[np.newaxis,...][0]\n",
    "\n",
    "### configure parameters###\n",
    "plot = True\n",
    "num_samples = 100\n",
    "num_display = 3\n",
    "image_size = 256\n",
    "\n",
    "### predict ###\n",
    "predict(noisy, signal, model, image_size, num_samples, num_display, plot = True)"
   ]
  },
  {
   "cell_type": "markdown",
   "id": "60485eac",
   "metadata": {},
   "source": [
    "# Generate Images"
   ]
  },
  {
   "cell_type": "markdown",
   "id": "6a263ff3",
   "metadata": {},
   "source": [
    "This section is to use trained Adversarial DIVNOISING model to randonly generate the images."
   ]
  },
  {
   "cell_type": "code",
   "execution_count": null,
   "id": "42e2a7db",
   "metadata": {
    "scrolled": true
   },
   "outputs": [],
   "source": [
    "### configure parameters ###\n",
    "model = torch.load(model_path + \"100divnoising_model_last.net\")\n",
    "noisy = imread(data_path + data_name).astype(\"float32\")\n",
    "signal = np.mean(noisy[:,...],axis=0)[np.newaxis,...][0]\n",
    "vmin=np.percentile(signal[0],0)\n",
    "vmax=np.percentile(signal[0],98)\n",
    "### configure parameters ###\n",
    "num_samples = 10\n",
    "plt.figure(figsize=(20, 5))\n",
    "### generate images ###\n",
    "for i in range(num_samples):\n",
    "    z = model.reparameterize(torch.zeros(1,64,6,6).cuda(), torch.zeros(1,64,6,6).cuda())\n",
    "    x = model.decode(z)\n",
    "    plt.subplot(1, num_samples, i + 1)\n",
    "    plt.imshow(x.cpu().detach().numpy().reshape(24,24), vmin = vmin, vmax = vmax, cmap = \"magma\")\n",
    "    plt.legend()\n",
    "\n",
    "plt.savefig(model_path + \"generated_images.jpg\")\n",
    "plt.show()"
   ]
  },
  {
   "cell_type": "markdown",
   "id": "800dcaac",
   "metadata": {},
   "source": [
    "# Plot the latent distribution"
   ]
  },
  {
   "cell_type": "markdown",
   "id": "81a124f7",
   "metadata": {},
   "source": [
    "This section is to plot latent distribution produced by intermediate model."
   ]
  },
  {
   "cell_type": "code",
   "execution_count": null,
   "id": "09394ca8",
   "metadata": {},
   "outputs": [],
   "source": [
    "img = noisy[0].reshape(1, 1, noisy.shape[1], noisy.shape[1])\n",
    "img_tensor = torch.Tensor(img).cuda()\n",
    "\n",
    "plt.figure(figsize=(60,60))\n",
    "for epoch in range(10, 101, 10):\n",
    "    model = torch.load(model_path + str(epoch) + \"divnoising_model_last.net\")\n",
    "    mean, var = model.encode(img_tensor)\n",
    "    z = model.reparameterize(mean, var)\n",
    "    plt.subplot(2, 5, epoch // 10)\n",
    "    plt.hist(z.cpu().detach().numpy().reshape(1568))\n",
    "    plt.title(\"epoch \" + str(epoch))\n",
    "    plt.legend()\n",
    "\n",
    "plt.savefig(model_path + \"adversarial_distribution.jpg\")\n",
    "plt.show()"
   ]
  },
  {
   "cell_type": "code",
   "execution_count": null,
   "id": "0cdb9fb7",
   "metadata": {},
   "outputs": [],
   "source": [
    "img = noisy[50].reshape(1, 1, noisy.shape[1], noisy.shape[1])\n",
    "img_tensor = torch.Tensor(img).cuda()\n",
    "model = torch.load(model_path + str(100) + \"divnoising_model_last.net\")\n",
    "\n",
    "for epoch in range(10, 101, 10):\n",
    "    z = model.reparameterize(torch.zeros(1,32).cuda(), torch.zeros(1,32).cuda())\n",
    "    x = model.Decoder(z) * model.data_std\n",
    "    x = x + model.data_mean\n",
    "    plt.imshow(x.cpu().detach().reshape(28, 28), cmap=\"gray\")\n",
    "    plt.legend()\n",
    "    plt.show()"
   ]
  },
  {
   "cell_type": "code",
   "execution_count": null,
   "id": "b405cd19",
   "metadata": {},
   "outputs": [],
   "source": []
  },
  {
   "cell_type": "code",
   "execution_count": null,
   "id": "d7bf3ae9",
   "metadata": {},
   "outputs": [],
   "source": []
  },
  {
   "cell_type": "code",
   "execution_count": null,
   "id": "c7324c05",
   "metadata": {},
   "outputs": [],
   "source": []
  }
 ],
 "metadata": {
  "kernelspec": {
   "display_name": "Python 3 (ipykernel)",
   "language": "python",
   "name": "python3"
  },
  "language_info": {
   "codemirror_mode": {
    "name": "ipython",
    "version": 3
   },
   "file_extension": ".py",
   "mimetype": "text/x-python",
   "name": "python",
   "nbconvert_exporter": "python",
   "pygments_lexer": "ipython3",
   "version": "3.8.12"
  }
 },
 "nbformat": 4,
 "nbformat_minor": 5
}
