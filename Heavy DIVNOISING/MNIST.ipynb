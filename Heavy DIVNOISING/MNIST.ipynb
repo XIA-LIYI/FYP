{
 "cells": [
  {
   "cell_type": "markdown",
   "id": "e4286116",
   "metadata": {},
   "source": [
    "# Import Dependency"
   ]
  },
  {
   "cell_type": "code",
   "execution_count": null,
   "id": "e40bba70",
   "metadata": {},
   "outputs": [],
   "source": [
    "import torch\n",
    "import matplotlib.pyplot as plt\n",
    "import numpy as np\n",
    "import torch.utils.data as Data \n",
    "from tifffile import imread\n",
    "import struct\n",
    "\n",
    "from noise import GaussianMixtureModel\n",
    "from data import preprocess\n",
    "from model_linear import DIVNOISING\n",
    "from predict import predict\n",
    "import train\n"
   ]
  },
  {
   "cell_type": "markdown",
   "id": "3aa63c38",
   "metadata": {},
   "source": [
    "# Configure Global Parameters"
   ]
  },
  {
   "cell_type": "code",
   "execution_count": null,
   "id": "1008630c",
   "metadata": {},
   "outputs": [],
   "source": [
    "data_path = \"../MNIST/\"\n",
    "model_path = \"./MNIST/\"\n",
    "divnoising_model_name = \"divnoising_model_last.net\"\n",
    "divnoising_data_parameters = \"divnoising_data_parameters.npz\"\n",
    "divnoising_model_trained = False"
   ]
  },
  {
   "cell_type": "markdown",
   "id": "f24e26d7",
   "metadata": {},
   "source": [
    "# Prepare Data"
   ]
  },
  {
   "cell_type": "code",
   "execution_count": null,
   "id": "7e77cf39",
   "metadata": {},
   "outputs": [],
   "source": [
    "factor = 0\n",
    "\n",
    "### import data ###\n",
    "with open(\"../MNIST/raw/train-images-idx3-ubyte\", 'rb') as f:\n",
    "    magic, num, rows, cols = struct.unpack(\">IIII\", f.read(16))\n",
    "    signal = np.fromfile(f, dtype = np.uint8).reshape(num, rows, cols).astype(\"float32\") / 255\n",
    "noisy = signal + factor * np.random.normal(loc = 0.0, scale = 1.0, size = signal.shape)\n",
    "noisy = np.clip(noisy, 0., 1.)[0:1000]"
   ]
  },
  {
   "cell_type": "markdown",
   "id": "7504730e",
   "metadata": {},
   "source": [
    "# Train DIVNOISING Model"
   ]
  },
  {
   "cell_type": "code",
   "execution_count": null,
   "id": "2c9d59e2",
   "metadata": {
    "scrolled": true
   },
   "outputs": [],
   "source": [
    "### configure training parameters ###\n",
    "patch_size = 28\n",
    "train_fraction = 0.85\n",
    "batch_size = 32\n",
    "epochs = 100\n",
    "learning_rate = 0.0002\n",
    "kl_limit = 1e-10\n",
    "gaussian_std = factor\n",
    "noise_model = None\n",
    "\n",
    "### preprocess data ###\n",
    "train_loss, recon_loss, kl_loss, val_loss = None, None, None, None\n",
    "train_tensor, val_tensor, mean, std = preprocess(noisy, patch_size, train_fraction)\n",
    "train_loader = Data.DataLoader(dataset = Data.TensorDataset(train_tensor, train_tensor), batch_size = batch_size, shuffle = True)\n",
    "val_loader = Data.DataLoader(dataset = Data.TensorDataset(val_tensor, val_tensor), batch_size = batch_size, shuffle = True)\n",
    "\n",
    "if (divnoising_model_trained):\n",
    "    model = torch.load(model_path + divnoising_model_name)\n",
    "else:\n",
    "\n",
    "    ### training ###\n",
    "    model = DIVNOISING(mean, std).cuda()\n",
    "    train_loss, recon_loss, kl_loss, val_loss = train.train(model, model_path, divnoising_model_name, mean, std, train_loader, val_loader, noise_model, gaussian_std, \n",
    "    epochs, batch_size, learning_rate, kl_limit)\n",
    "\n",
    "\n",
    "    ### plot loss ###\n",
    "    plt.figure(figsize=(18, 3))\n",
    "    plt.subplot(1,2,1)\n",
    "    plt.plot(train_loss, label='training')\n",
    "    plt.plot(val_loss, label='validation')\n",
    "    plt.xlabel(\"epochs\")\n",
    "    plt.ylabel(\"loss\")\n",
    "    plt.legend()\n",
    "\n",
    "    plt.subplot(1,2,2)\n",
    "    plt.plot(recon_loss, label='training')\n",
    "    plt.xlabel(\"epochs\")\n",
    "    plt.ylabel(\"reconstruction loss\")\n",
    "    plt.legend()\n",
    "\n",
    "    plt.subplot(1,3,3)\n",
    "    plt.plot(kl_loss, label='training')\n",
    "    plt.xlabel(\"epochs\")\n",
    "    plt.ylabel(\"KL loss\")\n",
    "    plt.legend()\n",
    "    plt.savefig(model_path + \"loss.jpg\")\n",
    "    plt.show()"
   ]
  },
  {
   "cell_type": "markdown",
   "id": "e8588856",
   "metadata": {},
   "source": [
    "# Predicte Noise-Free Images"
   ]
  },
  {
   "cell_type": "markdown",
   "id": "e3c71d98",
   "metadata": {},
   "source": [
    "### Model in Epcoh 5"
   ]
  },
  {
   "cell_type": "code",
   "execution_count": null,
   "id": "c3779186",
   "metadata": {
    "scrolled": true
   },
   "outputs": [],
   "source": [
    "model = torch.load(model_path + \"100divnoising_model_last.net\")\n",
    "\n",
    "### configure parameters###\n",
    "plot = True\n",
    "num_samples = 100\n",
    "num_display = 3\n",
    "image_size = 28\n",
    "\n",
    "### predict ###\n",
    "predict(noisy[4:5], signal[2], model, image_size, num_samples, num_display, plot = True)"
   ]
  },
  {
   "cell_type": "markdown",
   "id": "af300fe3",
   "metadata": {},
   "source": [
    "### Model in Epcoh 10"
   ]
  },
  {
   "cell_type": "code",
   "execution_count": null,
   "id": "e5d900df",
   "metadata": {},
   "outputs": [],
   "source": [
    "model = torch.load(model_path + \"1000divnoising_model_last.net\")\n",
    "\n",
    "### configure parameters###\n",
    "plot = True\n",
    "num_samples = 100\n",
    "num_display = 3\n",
    "image_size = 28\n",
    "\n",
    "### predict ###\n",
    "predict(noisy[0:1], signal[0], model, image_size, num_samples, num_display, plot = True)"
   ]
  },
  {
   "cell_type": "markdown",
   "id": "40318a7d",
   "metadata": {},
   "source": [
    "### Model in Epoch 20"
   ]
  },
  {
   "cell_type": "code",
   "execution_count": null,
   "id": "e9e33cee",
   "metadata": {},
   "outputs": [],
   "source": [
    "model = torch.load(model_path + \"20divnoising_model_last.net\")\n",
    "\n",
    "### import data ###\n",
    "noisy = imread(data_path + data_name).astype(\"float32\")\n",
    "signal = np.mean(noisy[:,...],axis=0)[np.newaxis,...][0]\n",
    "\n",
    "### configure parameters###\n",
    "plot = True\n",
    "num_samples = 100\n",
    "num_display = 3\n",
    "image_size = 256\n",
    "\n",
    "### predict ###\n",
    "predict(noisy, signal, model, image_size, num_samples, num_display, plot = True)"
   ]
  },
  {
   "cell_type": "markdown",
   "id": "1dbefb0a",
   "metadata": {},
   "source": [
    "### Model in Epoch 50"
   ]
  },
  {
   "cell_type": "code",
   "execution_count": null,
   "id": "cfdb2317",
   "metadata": {},
   "outputs": [],
   "source": [
    "model = torch.load(model_path + \"50divnoising_model_last.net\")\n",
    "\n",
    "### import data ###\n",
    "noisy = imread(data_path + data_name).astype(\"float32\")\n",
    "signal = np.mean(noisy[:,...],axis=0)[np.newaxis,...][0]\n",
    "\n",
    "### configure parameters###\n",
    "plot = True\n",
    "num_samples = 100\n",
    "num_display = 3\n",
    "image_size = 256\n",
    "\n",
    "### predict ###\n",
    "predict(noisy, signal, model, image_size, num_samples, num_display, plot = True)"
   ]
  },
  {
   "cell_type": "markdown",
   "id": "aedf757e",
   "metadata": {},
   "source": [
    "### Model in Epoch 75"
   ]
  },
  {
   "cell_type": "code",
   "execution_count": null,
   "id": "74183f10",
   "metadata": {},
   "outputs": [],
   "source": [
    "model = torch.load(model_path + \"75divnoising_model_last.net\")\n",
    "\n",
    "### import data ###\n",
    "noisy = imread(data_path + data_name).astype(\"float32\")\n",
    "signal = np.mean(noisy[:,...],axis=0)[np.newaxis,...][0]\n",
    "\n",
    "### configure parameters###\n",
    "plot = True\n",
    "num_samples = 100\n",
    "num_display = 3\n",
    "image_size = 256\n",
    "\n",
    "### predict ###\n",
    "predict(noisy, signal, model, image_size, num_samples, num_display, plot = True)"
   ]
  },
  {
   "cell_type": "markdown",
   "id": "2320913b",
   "metadata": {},
   "source": [
    "### Model in Epoch 100"
   ]
  },
  {
   "cell_type": "code",
   "execution_count": null,
   "id": "388a9420",
   "metadata": {},
   "outputs": [],
   "source": [
    "model = torch.load(model_path + \"100divnoising_model_last.net\")\n",
    "\n",
    "### import data ###\n",
    "noisy = imread(data_path + data_name).astype(\"float32\")\n",
    "signal = np.mean(noisy[:,...],axis=0)[np.newaxis,...][0]\n",
    "\n",
    "### configure parameters###\n",
    "plot = True\n",
    "num_samples = 100\n",
    "num_display = 3\n",
    "image_size = 256\n",
    "\n",
    "### predict ###\n",
    "predict(noisy, signal, model, image_size, num_samples, num_display, plot = True)"
   ]
  },
  {
   "cell_type": "markdown",
   "id": "47569388",
   "metadata": {},
   "source": [
    "Model in Epoch 200"
   ]
  },
  {
   "cell_type": "code",
   "execution_count": null,
   "id": "87d3572a",
   "metadata": {},
   "outputs": [],
   "source": [
    "model = torch.load(model_path + \"200divnoising_model_last.net\")\n",
    "\n",
    "### import data ###\n",
    "noisy = imread(data_path + data_name).astype(\"float32\")\n",
    "signal = np.mean(noisy[:,...],axis=0)[np.newaxis,...][0]\n",
    "\n",
    "### configure parameters###\n",
    "plot = True\n",
    "num_samples = 100\n",
    "num_display = 3\n",
    "image_size = 256\n",
    "\n",
    "### predict ###\n",
    "predict(noisy, signal, model, image_size, num_samples, num_display, plot = True)"
   ]
  },
  {
   "cell_type": "markdown",
   "id": "0145e352",
   "metadata": {},
   "source": [
    "Model in Epoch 300"
   ]
  },
  {
   "cell_type": "code",
   "execution_count": null,
   "id": "a9f5eae4",
   "metadata": {},
   "outputs": [],
   "source": [
    "model = torch.load(model_path + \"300divnoising_model_last.net\")\n",
    "\n",
    "### import data ###\n",
    "noisy = imread(data_path + data_name).astype(\"float32\")\n",
    "signal = np.mean(noisy[:,...],axis=0)[np.newaxis,...][0]\n",
    "\n",
    "### configure parameters###\n",
    "plot = True\n",
    "num_samples = 100\n",
    "num_display = 3\n",
    "image_size = 256\n",
    "\n",
    "### predict ###\n",
    "predict(noisy, signal, model, image_size, num_samples, num_display, plot = True)"
   ]
  },
  {
   "cell_type": "markdown",
   "id": "6acbd4b1",
   "metadata": {},
   "source": [
    "# Generate Images"
   ]
  },
  {
   "cell_type": "code",
   "execution_count": null,
   "id": "bf22f56d",
   "metadata": {},
   "outputs": [],
   "source": [
    "model = torch.load(model_path + \"100divnoising_model_last.net\")\n",
    "noisy = imread(data_path + data_name).astype(\"float32\")\n",
    "signal = np.mean(noisy[:,...],axis=0)[np.newaxis,...][0]\n",
    "vmin=np.percentile(signal[0],0)\n",
    "vmax=np.percentile(signal[0],98)\n",
    "\n",
    "### configure parameters ###\n",
    "num_samples = 10\n",
    "plt.figure(figsize=(20, 5))\n",
    "### generate images ###\n",
    "for i in range(num_samples):\n",
    "    z = model.reparameterize(torch.zeros(1,64,6,6).cuda(), torch.zeros(1,64,6,6).cuda())\n",
    "    x = model.Decoder(z) * model.data_std + model.data_mean\n",
    "    plt.subplot(1, num_samples, i + 1)\n",
    "    plt.imshow(x.cpu().detach()[0].numpy().reshape(24,24), vmax = vmax, vmin = vmin, cmap='magma')\n",
    "    plt.legend()\n",
    "\n",
    "plt.savefig(model_path + \"generated_images.jpg\")\n",
    "plt.show()"
   ]
  },
  {
   "cell_type": "code",
   "execution_count": null,
   "id": "f807300c",
   "metadata": {},
   "outputs": [],
   "source": [
    "with open(\"../MNIST/raw/train-images-idx3-ubyte\", 'rb') as f:\n",
    "    magic, num, rows, cols = struct.unpack(\">IIII\", f.read(16))\n",
    "    noisy = np.fromfile(f, dtype = np.uint8).reshape(num, rows, cols).astype(\"float32\") / 255\n",
    "\n",
    "img = noisy[0].reshape(1, 1, noisy.shape[1], noisy.shape[1])\n",
    "img_tensor = torch.Tensor(img).cuda()\n",
    "\n",
    "plt.figure(figsize=(60,20))\n",
    "for epoch in range(10, 101, 10):\n",
    "#     model = torch.load(model_path + str(epoch) + \"divnoising_model_last.net\")\n",
    "    mean, var = model.encode(img_tensor)\n",
    "    z = model.reparameterize(mean, var)\n",
    "    plt.subplot(2, 5, epoch // 10)\n",
    "    plt.hist(z.cpu().detach().numpy().reshape(3136))\n",
    "    plt.title(\"epoch \" + str(epoch))\n",
    "    plt.legend()\n",
    "\n",
    "plt.savefig(model_path + \"adversarial_distribution.jpg\")\n",
    "plt.show()"
   ]
  },
  {
   "cell_type": "code",
   "execution_count": null,
   "id": "1d19641b",
   "metadata": {},
   "outputs": [],
   "source": [
    "model = torch.load(model_path + str(100) + \"divnoising_model_last.net\")\n",
    "\n",
    "for epoch in range(10, 101, 10):\n",
    "    z = model.reparameterize(torch.zeros(1,32).cuda(), torch.zeros(1,32).cuda())\n",
    "    x = model.Decoder(z)\n",
    "    x = x\n",
    "    plt.imshow(x.cpu().detach().reshape(28, 28), cmap = \"gray\")\n",
    "    plt.legend()\n",
    "    plt.show()"
   ]
  },
  {
   "cell_type": "code",
   "execution_count": null,
   "id": "97b3396b",
   "metadata": {},
   "outputs": [],
   "source": []
  },
  {
   "cell_type": "code",
   "execution_count": null,
   "id": "6a5458dc",
   "metadata": {},
   "outputs": [],
   "source": []
  },
  {
   "cell_type": "code",
   "execution_count": null,
   "id": "f5f09f7f",
   "metadata": {},
   "outputs": [],
   "source": []
  }
 ],
 "metadata": {
  "kernelspec": {
   "display_name": "Python 3 (ipykernel)",
   "language": "python",
   "name": "python3"
  },
  "language_info": {
   "codemirror_mode": {
    "name": "ipython",
    "version": 3
   },
   "file_extension": ".py",
   "mimetype": "text/x-python",
   "name": "python",
   "nbconvert_exporter": "python",
   "pygments_lexer": "ipython3",
   "version": "3.8.12"
  }
 },
 "nbformat": 4,
 "nbformat_minor": 5
}
